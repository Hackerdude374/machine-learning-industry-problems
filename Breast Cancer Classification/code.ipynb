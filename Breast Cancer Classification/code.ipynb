{
 "cells": [
  {
   "cell_type": "code",
   "execution_count": null,
   "metadata": {},
   "outputs": [],
   "source": [
    "\n",
    "# - Predicting if the cancer diagnosis is benign or malignant based on several observations/features \n",
    "# - 30 features are used, examples:\n",
    "#         - radius (mean of distances from center to points on the perimeter)\n",
    "#         - texture (standard deviation of gray-scale values)\n",
    "#         - perimeter\n",
    "#         - area\n",
    "#         - smoothness (local variation in radius lengths)\n",
    "#         - compactness (perimeter^2 / area - 1.0)\n",
    "#         - concavity (severity of concave portions of the contour)\n",
    "#         - concave points (number of concave portions of the contour)\n",
    "#         - symmetry \n",
    "#         - fractal dimension (\"coastline approximation\" - 1)\n",
    "\n",
    "# - Datasets are linearly separable using all 30 input features\n",
    "# - Number of Instances: 569\n",
    "# - Class Distribution: 212 Malignant, 357 Benign\n",
    "# - Target class:\n",
    "#          - Malignant\n",
    "#          - Benign\n",
    "\n",
    "\n",
    "# https://archive.ics.uci.edu/ml/datasets/Breast+Cancer+Wisconsin+(Diagnostic)\n",
    "\n"
   ]
  },
  {
   "cell_type": "code",
   "execution_count": null,
   "metadata": {},
   "outputs": [],
   "source": []
  }
 ],
 "metadata": {
  "language_info": {
   "name": "python"
  }
 },
 "nbformat": 4,
 "nbformat_minor": 2
}
